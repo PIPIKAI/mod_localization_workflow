{
 "cells": [
  {
   "cell_type": "code",
   "execution_count": 60,
   "metadata": {},
   "outputs": [],
   "source": [
    "import pandas as pd\n",
    "import os\n",
    "import subprocess\n",
    "import openpyxl"
   ]
  },
  {
   "cell_type": "code",
   "execution_count": 61,
   "metadata": {},
   "outputs": [],
   "source": [
    "current_dir = os.getcwd()\n",
    "lua_file_path = os.path.join(current_dir,\"luascript\", \"prasejson.lua\")"
   ]
  },
  {
   "cell_type": "code",
   "execution_count": 62,
   "metadata": {},
   "outputs": [],
   "source": [
    "def get_json(s):\n",
    "    result = subprocess.run([\"lua\", f\"{lua_file_path}\" ,s], capture_output=True, text=True)\n",
    "    return result.stdout\n",
    "\n",
    "def get_dict():\n",
    "    en_str = get_json(\"en\")\n",
    "    zh_str = get_json(\"zh\")\n",
    "    en_dict = eval(en_str)\n",
    "    zh_dict = eval(zh_str)\n",
    "    return en_dict,zh_dict"
   ]
  },
  {
   "cell_type": "code",
   "execution_count": 31,
   "metadata": {},
   "outputs": [],
   "source": [
    "def get_miss_key(prefix,e_dict,z_dict):\n",
    "    for key, item in e_dict.items():\n",
    "        if key not in z_dict.keys():\n",
    "            print(f\"miss: {prefix}{key}\")\n",
    "        else:\n",
    "            if isinstance(item, dict):\n",
    "                get_miss_key(prefix  + f\"{key}->\",e_dict[key],z_dict[key])\n",
    "    "
   ]
  },
  {
   "cell_type": "markdown",
   "metadata": {},
   "source": [
    "## 检查 en中有而 zh中没有的key"
   ]
  },
  {
   "cell_type": "code",
   "execution_count": 32,
   "metadata": {},
   "outputs": [],
   "source": [
    "en_dict,zh_dict = get_dict()\n",
    "get_miss_key(\"\",en_dict,zh_dict)"
   ]
  },
  {
   "cell_type": "markdown",
   "metadata": {},
   "source": [
    "## 合并（更新）CSV中的内容到当前lua"
   ]
  },
  {
   "cell_type": "code",
   "execution_count": 53,
   "metadata": {},
   "outputs": [],
   "source": [
    "def dict_to_lua_table(d, indent=0):\n",
    "    \"\"\"将 Python 字典转换为 Lua table 格式的字符串，并添加缩进和换行。\"\"\"\n",
    "    indent_str = \"\\t\" * (indent+1)\n",
    "    next_indent_str = \"\\t\" * (indent + 2)\n",
    "    \n",
    "    if isinstance(d, dict):\n",
    "        items = []\n",
    "        for key, value in d.items():\n",
    "            # 递归处理键值对，key 必须是字符串，并且放在 Lua 格式的括号中\n",
    "            if \"-\" in key or \".\" in key or \" \" in key :\n",
    "                key = f\"[\\\"{key}\\\"]\"\n",
    "            items.append(f'{next_indent_str}{key} = {dict_to_lua_table(value, indent + 1)}')\n",
    "        return \"{\\n\" + \",\\n\".join(items) + \"\\n\" + indent_str + \"}\"\n",
    "    \n",
    "    elif isinstance(d, list):\n",
    "        items = [] \n",
    "        for item in d:\n",
    "            if isinstance(item, list):\n",
    "                items.append(f'{next_indent_str}{dict_to_lua_table(item, indent + 1)}') \n",
    "            else:\n",
    "                items.append(f'{next_indent_str}\"{item}\"')\n",
    "        \n",
    "        return \"{\\n\" + \",\\n\".join(items) + \"\\n\" + indent_str + \"}\"\n",
    "    \n",
    "    elif isinstance(d, str):\n",
    "        # 处理字符串类型，保留双引号\n",
    "        return f'\"{d}\"'\n",
    "    \n",
    "    else:\n",
    "        # 处理其他类型，转换为字符串格式\n",
    "        return str(d)\n",
    "    \n",
    "def dict2lua(dict):\n",
    "    table =dict_to_lua_table(dict)\n",
    "    return \"return \" +table\n",
    "\n",
    "def sort_dict(d):\n",
    "    if isinstance(d, dict):\n",
    "        return {k: sort_dict(v) for k, v in sorted(d.items())}\n",
    "    return d"
   ]
  },
  {
   "cell_type": "code",
   "execution_count": 54,
   "metadata": {},
   "outputs": [],
   "source": [
    "def merge_excel_2_lua(moded_csv, change_name = True, change_discription = True , out_name = \"o_zh_CN.lua\"):\n",
    "    moded_df = pd.read_excel(moded_csv , engine= 'openpyxl')\n",
    "    # 读取原来的json\n",
    "    en_dict,zh_dict = get_dict()\n",
    "    # 读取csv\n",
    "    # 更具csv内容更改json\n",
    "    filtered_df = moded_df[(moded_df['修改后的中文名称'].notna()) | (moded_df['修改后的中文介绍'].notna())]\n",
    "\n",
    "    for index, row in filtered_df.iterrows():\n",
    "        # 访问每一行的数据，例如：\n",
    "        kind = row['kind']\n",
    "        key = row['key']\n",
    "        chinese_name = row['修改后的中文名称']\n",
    "        introduction = row['修改后的中文介绍']\n",
    "        \n",
    "        origin_name = row['中文名称']\n",
    "        origin_text = row['中文介绍']\n",
    "        \n",
    "        if change_name and  pd.notna(row['修改后的中文名称']):\n",
    "            zh_dict[\"descriptions\"][kind][key][\"name\"] = chinese_name\n",
    "            \n",
    "        if change_discription and pd.notna(row['修改后的中文介绍']):\n",
    "            zh_dict[\"descriptions\"][kind][key][\"text\"] =  str(introduction).split(\"\\n\")\n",
    "            \n",
    "    res = (dict2lua(sort_dict(zh_dict)))\n",
    "    \n",
    "    with open(out_name, 'w', encoding='utf-8') as f:\n",
    "        f.write(res)\n",
    "        f.close()\n",
    "    # 更具json生成lua"
   ]
  },
  {
   "cell_type": "code",
   "execution_count": 55,
   "metadata": {},
   "outputs": [
    {
     "name": "stderr",
     "output_type": "stream",
     "text": [
      "c:\\ProgramData\\miniconda3\\Lib\\site-packages\\openpyxl\\styles\\stylesheet.py:237: UserWarning: Workbook contains no default style, apply openpyxl's default\n",
      "  warn(\"Workbook contains no default style, apply openpyxl's default\")\n"
     ]
    }
   ],
   "source": [
    "merge_excel_2_lua('翻译勘误.xlsx' , False , True,)"
   ]
  },
  {
   "cell_type": "markdown",
   "metadata": {},
   "source": [
    "## 导出当前lua到csv"
   ]
  },
  {
   "cell_type": "code",
   "execution_count": 63,
   "metadata": {},
   "outputs": [],
   "source": [
    "def lua_2_csv():\n",
    "    en_dict,zh_dict = get_dict()\n",
    "    csv_data = []\n",
    "    for kind in zh_dict[\"descriptions\"].keys():\n",
    "        for key in zh_dict[\"descriptions\"][kind].keys():\n",
    "            d = {\n",
    "                \"kind\" : kind ,\n",
    "                \"key\" : key ,\n",
    "                \"英文名称\" :  en_dict[\"descriptions\"][kind][key][\"name\"] if key in en_dict[\"descriptions\"][kind].keys() else '',\n",
    "                \"中文名称\" :  '未翻译',\n",
    "                \"修改后的中文名称\" :  '' ,\n",
    "                \"英文介绍\" :  \"\\n\".join(en_dict[\"descriptions\"][kind][key][\"text\"])  if key in en_dict[\"descriptions\"][kind].keys() else '',\n",
    "                \"中文介绍\" :  '未翻译'  ,\n",
    "                \"修改后的中文介绍\" :  '' ,\n",
    "            }\n",
    "            if key in zh_dict[\"descriptions\"][kind].keys():\n",
    "                d[\"中文名称\"] = zh_dict[\"descriptions\"][kind][key][\"name\"] \n",
    "                d[\"中文介绍\"] = \"\\n\".join(zh_dict[\"descriptions\"][kind][key][\"text\"])\n",
    "            \n",
    "            csv_data.append(d)\n",
    "    df = pd.DataFrame(csv_data)\n",
    "    df.to_csv('out.csv', index=False, encoding=\"utf-8\")"
   ]
  },
  {
   "cell_type": "code",
   "execution_count": 65,
   "metadata": {},
   "outputs": [],
   "source": [
    "lua_2_csv()\n"
   ]
  },
  {
   "cell_type": "code",
   "execution_count": null,
   "metadata": {},
   "outputs": [],
   "source": []
  }
 ],
 "metadata": {
  "kernelspec": {
   "display_name": "base",
   "language": "python",
   "name": "python3"
  },
  "language_info": {
   "codemirror_mode": {
    "name": "ipython",
    "version": 3
   },
   "file_extension": ".py",
   "mimetype": "text/x-python",
   "name": "python",
   "nbconvert_exporter": "python",
   "pygments_lexer": "ipython3",
   "version": "3.11.9"
  }
 },
 "nbformat": 4,
 "nbformat_minor": 2
}
